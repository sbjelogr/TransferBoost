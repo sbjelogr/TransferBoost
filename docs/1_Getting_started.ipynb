{
 "cells": [
  {
   "cell_type": "markdown",
   "id": "hawaiian-deviation",
   "metadata": {},
   "source": [
    "# Getting started with tboost\n",
    "\n",
    "This is quick start tutorial providing code snippets for getting started with tboost."
   ]
  },
  {
   "cell_type": "markdown",
   "id": "still-rabbit",
   "metadata": {},
   "source": [
    "## XGBTransferLearner: transfer learning with xgboost"
   ]
  },
  {
   "cell_type": "code",
   "execution_count": 1,
   "id": "amended-clothing",
   "metadata": {},
   "outputs": [],
   "source": [
    "import tboost\n",
    "from tboost.dataset import load_data\n",
    "\n",
    "# Load the data\n",
    "X, y1, y2 = load_data(return_X_y=True)"
   ]
  },
  {
   "cell_type": "markdown",
   "id": "shaped-ordinary",
   "metadata": {},
   "source": [
    "### Train normally an xgboost model\n",
    "\n",
    "Train an `xgboost` model on the first target, with `y1`"
   ]
  },
  {
   "cell_type": "code",
   "execution_count": 3,
   "id": "configured-affair",
   "metadata": {},
   "outputs": [
    {
     "data": {
      "text/plain": [
       "XGBClassifier(base_score=0.5, booster='gbtree', colsample_bylevel=1,\n",
       "              colsample_bynode=1, colsample_bytree=1, gamma=0, gpu_id=-1,\n",
       "              importance_type='gain', interaction_constraints='',\n",
       "              learning_rate=0.300000012, max_delta_step=0, max_depth=2,\n",
       "              min_child_weight=1, missing=nan, monotone_constraints='()',\n",
       "              n_estimators=100, n_jobs=4, num_parallel_tree=1, random_state=0,\n",
       "              reg_alpha=0, reg_lambda=0, scale_pos_weight=1, subsample=1,\n",
       "              tree_method='exact', validate_parameters=1, verbosity=0)"
      ]
     },
     "execution_count": 3,
     "metadata": {},
     "output_type": "execute_result"
    }
   ],
   "source": [
    "import xgboost as xgb\n",
    "\n",
    "xgb_model = xgb.XGBClassifier(\n",
    "    max_depth = 2,\n",
    "    reg_lambda = 0,\n",
    "    n_estimators=100,\n",
    "    verbosity = 0\n",
    ")\n",
    "\n",
    "xgb_model.fit(X,y1)"
   ]
  },
  {
   "cell_type": "markdown",
   "id": "signed-allowance",
   "metadata": {},
   "source": [
    "### Transer learning with xgboost\n",
    "\n",
    "Transfer Learners expect a fitted model in the constructor.\n"
   ]
  },
  {
   "cell_type": "code",
   "execution_count": 4,
   "id": "infinite-timothy",
   "metadata": {},
   "outputs": [],
   "source": [
    "from tboost.models import XGBTransferLearner\n",
    "\n",
    "t_xgb_model = XGBTransferLearner(xgb_model)"
   ]
  },
  {
   "cell_type": "markdown",
   "id": "bronze-governor",
   "metadata": {},
   "source": [
    "Perfrom the \"transfer learning\" by fitting the XGBTransferLearner on another target, `y2` in this case."
   ]
  },
  {
   "cell_type": "code",
   "execution_count": 5,
   "id": "auburn-dealer",
   "metadata": {},
   "outputs": [
    {
     "data": {
      "text/plain": [
       "XGBTransferLearner with base model\n",
       "\tXGBClassifier(base_score=0.5, booster='gbtree', colsample_bylevel=1,\n",
       "              colsample_bynode=1, colsample_bytree=1, gamma=0, gpu_id=-1,\n",
       "              importance_type='gain', interaction_constraints='',\n",
       "              learning_rate=0.300000012, max_delta_step=0, max_depth=2,\n",
       "              min_child_weight=1, missing=nan, monotone_constraints='()',\n",
       "              n_estimators=100, n_jobs=4, num_parallel_tree=1, random_state=0,\n",
       "              reg_alpha=0, reg_lambda=0, scale_pos_weight=1, subsample=1,\n",
       "              tree_method='exact', validate_parameters=1, verbosity=0)\n",
       "base_score = 0.5"
      ]
     },
     "execution_count": 5,
     "metadata": {},
     "output_type": "execute_result"
    }
   ],
   "source": [
    "t_xgb_model.fit(X,y2)"
   ]
  },
  {
   "cell_type": "markdown",
   "id": "otherwise-plastic",
   "metadata": {},
   "source": [
    "#### Get the predicted probabilities with the transfer learning.\n",
    "\n",
    "`XGBTransferLearner.predicted_proba(X)` returns the the probabilities (as in any sklearn API)."
   ]
  },
  {
   "cell_type": "code",
   "execution_count": 6,
   "id": "empirical-childhood",
   "metadata": {},
   "outputs": [
    {
     "data": {
      "text/plain": [
       "array([[0.70023316, 0.29976684],\n",
       "       [0.70499377, 0.29500623],\n",
       "       [0.91163901, 0.08836099],\n",
       "       ...,\n",
       "       [0.60772859, 0.39227141],\n",
       "       [0.76717276, 0.23282724],\n",
       "       [0.80914091, 0.19085909]])"
      ]
     },
     "execution_count": 6,
     "metadata": {},
     "output_type": "execute_result"
    }
   ],
   "source": [
    "t_xgb_model.predict_proba(X)"
   ]
  }
 ],
 "metadata": {
  "kernelspec": {
   "display_name": "Python 3",
   "language": "python",
   "name": "python3"
  },
  "language_info": {
   "codemirror_mode": {
    "name": "ipython",
    "version": 3
   },
   "file_extension": ".py",
   "mimetype": "text/x-python",
   "name": "python",
   "nbconvert_exporter": "python",
   "pygments_lexer": "ipython3",
   "version": "3.8.8"
  }
 },
 "nbformat": 4,
 "nbformat_minor": 5
}
